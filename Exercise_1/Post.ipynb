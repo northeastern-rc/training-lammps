{
 "cells": [
  {
   "cell_type": "code",
   "execution_count": 1,
   "id": "e72c9d66-c924-4c9c-aca0-2b8da1ed5911",
   "metadata": {},
   "outputs": [],
   "source": [
    "# Importing libraries to complete analysis\n",
    "import os\n",
    "import math\n",
    "import numpy as np\n",
    "import pandas as pd\n",
    "import matplotlib.pyplot as plt"
   ]
  },
  {
   "cell_type": "code",
   "execution_count": 2,
   "id": "35ea724e-2a35-485d-a0bc-c561d147b695",
   "metadata": {},
   "outputs": [],
   "source": [
    "# Reading in the log.lammps file line by line and storing it in log_file\n",
    "log_file = []\n",
    "file1 = open('log.lammps', 'r')\n",
    "count = 0\n",
    "while True:\n",
    "    count +1\n",
    "    line = file1.readline()\n",
    "    if not line:\n",
    "        break\n",
    "    log_file.append(line)\n",
    "file1.close()"
   ]
  },
  {
   "cell_type": "code",
   "execution_count": 3,
   "id": "4641c2ca-ad44-4a5f-8f8b-4e99d08df7ee",
   "metadata": {},
   "outputs": [],
   "source": [
    "# Finding the starting and end points of the log_file where there is data. You know the starting and end points from the log.lammps file\n",
    "start_point = log_file[116]\n",
    "end_point = log_file[318]\n",
    "count = 0\n",
    "count_start = 0\n",
    "count_end = 0\n",
    "while True:\n",
    "    count += 1\n",
    "    if start_point == log_file[count]:\n",
    "        count_start = count\n",
    "    if end_point == log_file[count]:\n",
    "        count_end = count\n",
    "    if count == len(log_file)-1:\n",
    "        break"
   ]
  },
  {
   "cell_type": "code",
   "execution_count": 4,
   "id": "4f412cc9-c94c-4cde-882d-a4172167208f",
   "metadata": {},
   "outputs": [],
   "source": [
    "# Creating an array of the data, storing it into a numpy array and finally in a pandas dataframe\n",
    "log_np = np.array(log_file[count_start+1:count_end])\n",
    "output = np.zeros((count_end-count_start-1,len(start_point.split())))\n",
    "for i in range(0,201):\n",
    "    tmp = log_np[i].split()\n",
    "    for j in range(0, len(tmp)):\n",
    "        output[i][j] = tmp[j]\n",
    "log_df = pd.DataFrame(output, columns = start_point.split())"
   ]
  },
  {
   "cell_type": "code",
   "execution_count": 5,
   "id": "83826638-a173-43a5-bbf1-36480f67188c",
   "metadata": {},
   "outputs": [
    {
     "data": {
      "text/html": [
       "<div>\n",
       "<style scoped>\n",
       "    .dataframe tbody tr th:only-of-type {\n",
       "        vertical-align: middle;\n",
       "    }\n",
       "\n",
       "    .dataframe tbody tr th {\n",
       "        vertical-align: top;\n",
       "    }\n",
       "\n",
       "    .dataframe thead th {\n",
       "        text-align: right;\n",
       "    }\n",
       "</style>\n",
       "<table border=\"1\" class=\"dataframe\">\n",
       "  <thead>\n",
       "    <tr style=\"text-align: right;\">\n",
       "      <th></th>\n",
       "      <th>Step</th>\n",
       "      <th>Time</th>\n",
       "      <th>PotEng</th>\n",
       "      <th>KinEng</th>\n",
       "      <th>TotEng</th>\n",
       "      <th>Temp</th>\n",
       "      <th>Press</th>\n",
       "      <th>Lx</th>\n",
       "      <th>Ly</th>\n",
       "      <th>Lz</th>\n",
       "    </tr>\n",
       "  </thead>\n",
       "  <tbody>\n",
       "    <tr>\n",
       "      <th>0</th>\n",
       "      <td>0.0</td>\n",
       "      <td>0.0</td>\n",
       "      <td>-6.773368</td>\n",
       "      <td>1.499783</td>\n",
       "      <td>-5.273585</td>\n",
       "      <td>1.000000</td>\n",
       "      <td>-5.391239</td>\n",
       "      <td>20.155154</td>\n",
       "      <td>20.155154</td>\n",
       "      <td>20.155154</td>\n",
       "    </tr>\n",
       "    <tr>\n",
       "      <th>1</th>\n",
       "      <td>500.0</td>\n",
       "      <td>0.5</td>\n",
       "      <td>-6.070919</td>\n",
       "      <td>0.789508</td>\n",
       "      <td>-5.281410</td>\n",
       "      <td>0.526415</td>\n",
       "      <td>-1.614959</td>\n",
       "      <td>20.155154</td>\n",
       "      <td>20.155154</td>\n",
       "      <td>20.155154</td>\n",
       "    </tr>\n",
       "    <tr>\n",
       "      <th>2</th>\n",
       "      <td>1000.0</td>\n",
       "      <td>1.0</td>\n",
       "      <td>-6.093224</td>\n",
       "      <td>0.811786</td>\n",
       "      <td>-5.281438</td>\n",
       "      <td>0.541269</td>\n",
       "      <td>-1.725477</td>\n",
       "      <td>20.155154</td>\n",
       "      <td>20.155154</td>\n",
       "      <td>20.155154</td>\n",
       "    </tr>\n",
       "    <tr>\n",
       "      <th>3</th>\n",
       "      <td>1500.0</td>\n",
       "      <td>1.5</td>\n",
       "      <td>-6.089348</td>\n",
       "      <td>0.807960</td>\n",
       "      <td>-5.281388</td>\n",
       "      <td>0.538718</td>\n",
       "      <td>-1.706767</td>\n",
       "      <td>20.155154</td>\n",
       "      <td>20.155154</td>\n",
       "      <td>20.155154</td>\n",
       "    </tr>\n",
       "    <tr>\n",
       "      <th>4</th>\n",
       "      <td>2000.0</td>\n",
       "      <td>2.0</td>\n",
       "      <td>-6.091628</td>\n",
       "      <td>0.810429</td>\n",
       "      <td>-5.281199</td>\n",
       "      <td>0.540364</td>\n",
       "      <td>-1.726527</td>\n",
       "      <td>20.155154</td>\n",
       "      <td>20.155154</td>\n",
       "      <td>20.155154</td>\n",
       "    </tr>\n",
       "    <tr>\n",
       "      <th>...</th>\n",
       "      <td>...</td>\n",
       "      <td>...</td>\n",
       "      <td>...</td>\n",
       "      <td>...</td>\n",
       "      <td>...</td>\n",
       "      <td>...</td>\n",
       "      <td>...</td>\n",
       "      <td>...</td>\n",
       "      <td>...</td>\n",
       "      <td>...</td>\n",
       "    </tr>\n",
       "    <tr>\n",
       "      <th>196</th>\n",
       "      <td>98000.0</td>\n",
       "      <td>98.0</td>\n",
       "      <td>-6.040958</td>\n",
       "      <td>0.758799</td>\n",
       "      <td>-5.282159</td>\n",
       "      <td>0.505939</td>\n",
       "      <td>-1.065452</td>\n",
       "      <td>20.155154</td>\n",
       "      <td>20.155154</td>\n",
       "      <td>20.155154</td>\n",
       "    </tr>\n",
       "    <tr>\n",
       "      <th>197</th>\n",
       "      <td>98500.0</td>\n",
       "      <td>98.5</td>\n",
       "      <td>-6.050519</td>\n",
       "      <td>0.768047</td>\n",
       "      <td>-5.282472</td>\n",
       "      <td>0.512106</td>\n",
       "      <td>-1.124789</td>\n",
       "      <td>20.155154</td>\n",
       "      <td>20.155154</td>\n",
       "      <td>20.155154</td>\n",
       "    </tr>\n",
       "    <tr>\n",
       "      <th>198</th>\n",
       "      <td>99000.0</td>\n",
       "      <td>99.0</td>\n",
       "      <td>-6.045875</td>\n",
       "      <td>0.763384</td>\n",
       "      <td>-5.282490</td>\n",
       "      <td>0.508996</td>\n",
       "      <td>-1.118693</td>\n",
       "      <td>20.155154</td>\n",
       "      <td>20.155154</td>\n",
       "      <td>20.155154</td>\n",
       "    </tr>\n",
       "    <tr>\n",
       "      <th>199</th>\n",
       "      <td>99500.0</td>\n",
       "      <td>99.5</td>\n",
       "      <td>-6.044683</td>\n",
       "      <td>0.762070</td>\n",
       "      <td>-5.282613</td>\n",
       "      <td>0.508120</td>\n",
       "      <td>-1.116987</td>\n",
       "      <td>20.155154</td>\n",
       "      <td>20.155154</td>\n",
       "      <td>20.155154</td>\n",
       "    </tr>\n",
       "    <tr>\n",
       "      <th>200</th>\n",
       "      <td>100000.0</td>\n",
       "      <td>100.0</td>\n",
       "      <td>-6.045991</td>\n",
       "      <td>0.763722</td>\n",
       "      <td>-5.282268</td>\n",
       "      <td>0.509222</td>\n",
       "      <td>-1.107832</td>\n",
       "      <td>20.155154</td>\n",
       "      <td>20.155154</td>\n",
       "      <td>20.155154</td>\n",
       "    </tr>\n",
       "  </tbody>\n",
       "</table>\n",
       "<p>201 rows × 10 columns</p>\n",
       "</div>"
      ],
      "text/plain": [
       "         Step   Time    PotEng    KinEng    TotEng      Temp     Press  \\\n",
       "0         0.0    0.0 -6.773368  1.499783 -5.273585  1.000000 -5.391239   \n",
       "1       500.0    0.5 -6.070919  0.789508 -5.281410  0.526415 -1.614959   \n",
       "2      1000.0    1.0 -6.093224  0.811786 -5.281438  0.541269 -1.725477   \n",
       "3      1500.0    1.5 -6.089348  0.807960 -5.281388  0.538718 -1.706767   \n",
       "4      2000.0    2.0 -6.091628  0.810429 -5.281199  0.540364 -1.726527   \n",
       "..        ...    ...       ...       ...       ...       ...       ...   \n",
       "196   98000.0   98.0 -6.040958  0.758799 -5.282159  0.505939 -1.065452   \n",
       "197   98500.0   98.5 -6.050519  0.768047 -5.282472  0.512106 -1.124789   \n",
       "198   99000.0   99.0 -6.045875  0.763384 -5.282490  0.508996 -1.118693   \n",
       "199   99500.0   99.5 -6.044683  0.762070 -5.282613  0.508120 -1.116987   \n",
       "200  100000.0  100.0 -6.045991  0.763722 -5.282268  0.509222 -1.107832   \n",
       "\n",
       "            Lx         Ly         Lz  \n",
       "0    20.155154  20.155154  20.155154  \n",
       "1    20.155154  20.155154  20.155154  \n",
       "2    20.155154  20.155154  20.155154  \n",
       "3    20.155154  20.155154  20.155154  \n",
       "4    20.155154  20.155154  20.155154  \n",
       "..         ...        ...        ...  \n",
       "196  20.155154  20.155154  20.155154  \n",
       "197  20.155154  20.155154  20.155154  \n",
       "198  20.155154  20.155154  20.155154  \n",
       "199  20.155154  20.155154  20.155154  \n",
       "200  20.155154  20.155154  20.155154  \n",
       "\n",
       "[201 rows x 10 columns]"
      ]
     },
     "execution_count": 5,
     "metadata": {},
     "output_type": "execute_result"
    }
   ],
   "source": [
    "log_df"
   ]
  },
  {
   "cell_type": "code",
   "execution_count": 6,
   "id": "f07b8576-f11f-49d2-a906-4904032aa7df",
   "metadata": {},
   "outputs": [
    {
     "data": {
      "image/png": "[encoded data removed]",
      "text/plain": [
       "<Figure size 460.8x345.6 with 1 Axes>"
      ]
     },
     "metadata": {
      "needs_background": "light"
     },
     "output_type": "display_data"
    }
   ],
   "source": [
    "fig = plt.figure(figsize = (6.4,4.8))\n",
    "ax = plt.axes((0.1,0.15,0.8,0.8))\n",
    "ax.plot(log_df.Time,log_df.PotEng,label ='Potential Energy')\n",
    "ax.plot(log_df.Time,log_df.KinEng,label ='Kinetic Energy')\n",
    "ax.plot(log_df.Time,log_df.TotEng,label ='Total Energy')\n",
    "ax.legend(facecolor='white',edgecolor='black',framealpha=1,fontsize=14)\n",
    "ax.set_xlabel('Time [LJ units]',fontsize=14)\n",
    "ax.set_ylabel('Energy [LJ units]',fontsize=14)\n",
    "ax.set_title('Exercise 1',fontsize=14)\n",
    "plt.savefig('Exercise_1_Energy.jpg', format='jpg',dpi=300,bbox_inches='tight')"
   ]
  },
  {
   "cell_type": "code",
   "execution_count": 7,
   "id": "10325243-a674-4ce8-b7b4-80a1bae02eaa",
   "metadata": {},
   "outputs": [
    {
     "data": {
      "image/png": "[encoded data removed]",
      "text/plain": [
       "<Figure size 460.8x345.6 with 1 Axes>"
      ]
     },
     "metadata": {
      "needs_background": "light"
     },
     "output_type": "display_data"
    }
   ],
   "source": [
    "fig = plt.figure(figsize = (6.4,4.8))\n",
    "ax = plt.axes((0.1,0.15,0.8,0.8))\n",
    "ax.plot(log_df.Time,log_df.Temp,label ='Temperature')\n",
    "ax.legend(facecolor='white',edgecolor='black',framealpha=1,fontsize=14)\n",
    "ax.set_xlabel('Time [LJ units]',fontsize=14)\n",
    "ax.set_ylabel('Temperature [LJ units]',fontsize=14)\n",
    "ax.set_title('Exercise 1',fontsize=14)\n",
    "plt.savefig('Exercise_1_Temperature.jpg', format='jpg',dpi=300,bbox_inches='tight')"
   ]
  },
  {
   "cell_type": "code",
   "execution_count": 8,
   "id": "968c2772-c4a4-495b-80d6-cf4000f0ba67",
   "metadata": {},
   "outputs": [
    {
     "data": {
      "image/png": "[encoded data removed]",
      "text/plain": [
       "<Figure size 460.8x345.6 with 1 Axes>"
      ]
     },
     "metadata": {
      "needs_background": "light"
     },
     "output_type": "display_data"
    }
   ],
   "source": [
    "fig = plt.figure(figsize = (6.4,4.8))\n",
    "ax = plt.axes((0.1,0.15,0.8,0.8))\n",
    "ax.plot(log_df.Time,log_df.Press,label ='Pressure')\n",
    "ax.legend(facecolor='white',edgecolor='black',framealpha=1,fontsize=14)\n",
    "ax.set_xlabel('Time [LJ units]',fontsize=14)\n",
    "ax.set_ylabel('Pressure [LJ units]',fontsize=14)\n",
    "ax.set_title('Exercise 1',fontsize=14)\n",
    "plt.savefig('Exercise_1_Pressure.jpg', format='jpg',dpi=300,bbox_inches='tight')"
   ]
  },
  {
   "cell_type": "code",
   "execution_count": null,
   "id": "a9933e92-0b3d-4d59-b759-f2d61df63241",
   "metadata": {},
   "outputs": [],
   "source": []
  }
 ],
 "metadata": {
  "kernelspec": {
   "display_name": "Python 3 (ipykernel)",
   "language": "python",
   "name": "python3"
  },
  "language_info": {
   "codemirror_mode": {
    "name": "ipython",
    "version": 3
   },
   "file_extension": ".py",
   "mimetype": "text/x-python",
   "name": "python",
   "nbconvert_exporter": "python",
   "pygments_lexer": "ipython3",
   "version": "3.9.12"
  }
 },
 "nbformat": 4,
 "nbformat_minor": 5
}
